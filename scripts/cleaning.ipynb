{
 "cells": [
  {
   "cell_type": "markdown",
   "metadata": {},
   "source": [
    "# Initialize Session\n",
    "Run the following pipeline from a subdirectory of the XMC run directory (where all the deconvolution files are).\n",
    "(The thousands of files in the main run directory slows things down.)"
   ]
  },
  {
   "cell_type": "code",
   "execution_count": null,
   "metadata": {
    "collapsed": false
   },
   "outputs": [],
   "source": [
    "%run ../../diagnostic_init.py\n",
    "%load_ext autoreload\n",
    "%autoreload 2 #automatically reload functions before execution\n",
    "outroot = './'\n",
    "# Set up plotting to notebook\n",
    "bplt.output_notebook()\n",
    "\n",
    "# edit blobcols depending on specific model for this run\n",
    "with open('../parameters.txt') as f:\n",
    "    allcols = f.readlines()[0].strip('\\n')\n",
    "allcols = list(allcols.split(','))\n",
    "print allcols\n",
    "blobcols = [c for c in allcols if 'blob' in c]\n",
    "print blobcols\n",
    "\n",
    "# if level 1 cleaning already has been done, read in cleaned blobs, changing iteration numbers. \n",
    "# Skip the xd.clean below\n",
    "dfall = pd.read_table('deconvolution_merged_iter3500-9292.txt',index_col=0,sep=r'\\s+',engine='python')\n",
    "#print dfall.columns"
   ]
  },
  {
   "cell_type": "markdown",
   "metadata": {},
   "source": [
    "# Check Run Progress and Filter Data\n",
    "Skip if already done and merged deconvolution file is being used."
   ]
  },
  {
   "cell_type": "code",
   "execution_count": null,
   "metadata": {
    "collapsed": false
   },
   "outputs": [],
   "source": [
    "sf=xplt.chi2(runpath='../',outfile='notebook')"
   ]
  },
  {
   "cell_type": "markdown",
   "metadata": {},
   "source": [
    "Set minimum converged iteration, based on chi2 plot.\n",
    "Change distance depending on the object.\n"
   ]
  },
  {
   "cell_type": "code",
   "execution_count": null,
   "metadata": {
    "collapsed": false
   },
   "outputs": [],
   "source": [
    "itermin = 3500\n",
    "# determine converged chi2/dof\n",
    "sf = xw.filterblobs(sf,'iteration',minvals=itermin)\n",
    "print xw.weighted_median(sf['redchi2']) \n",
    "print max(sf.iteration)"
   ]
  },
  {
   "cell_type": "code",
   "execution_count": null,
   "metadata": {
    "collapsed": false,
    "scrolled": true
   },
   "outputs": [],
   "source": [
    "# remove iterations before convergence, add new derived columns, \n",
    "#  and save merged deconvolution file\n",
    "#dfall = xd.clean(runpath='../',itmin=itermin,distance=3.3)\n",
    "\n",
    "# Get Basic Blob Info\n",
    "# print columns\n",
    "print dfall.columns\n",
    "# print number of blobs\n",
    "print len(dfall.index)\n",
    "# print min, max of each parameter\n",
    "for p in dfall.columns:\n",
    "    print p,'\\t',min(dfall[p]),'\\t',max(dfall[p])"
   ]
  },
  {
   "cell_type": "markdown",
   "metadata": {},
   "source": [
    "# Initial Inspection"
   ]
  },
  {
   "cell_type": "code",
   "execution_count": null,
   "metadata": {
    "collapsed": false,
    "scrolled": false
   },
   "outputs": [],
   "source": [
    "# Plot blob histograms\n",
    "hfigs=xplt.histogram_grid(dfall,outfile='notebook',ncols=2,bins=200,height=200)\n",
    "whfigs=xplt.histogram_grid(dfall,outfile='notebook',ncols=2,weights=dfall['blob_em'],bins=200,height=200)"
   ]
  },
  {
   "cell_type": "markdown",
   "metadata": {},
   "source": [
    "It looks like almost all of the EM is in the lowest temperature bins ... "
   ]
  },
  {
   "cell_type": "code",
   "execution_count": null,
   "metadata": {
    "collapsed": false,
    "scrolled": true
   },
   "outputs": [],
   "source": [
    "# Plot traceplots\n",
    "# if Datashader not available, or linked plots are desired, set agg=None. Note this \n",
    "#  will be MUCH slower if too many parameters..\n",
    "tfigs = xplt.traceplots(dfall[blobcols],agg=None,sampling=2000,outfile='notebook')"
   ]
  },
  {
   "cell_type": "markdown",
   "metadata": {},
   "source": [
    "# Remove high EM - low kT blobs\n",
    "Use the histograms and scatter plots to determine good guesses for an EM or temperature threshold.\n",
    "\n",
    "Then create EM maps signficance maps for the 'bad' blobs to see if the emission from those blobs was significant."
   ]
  },
  {
   "cell_type": "code",
   "execution_count": null,
   "metadata": {
    "collapsed": false,
    "scrolled": true
   },
   "outputs": [],
   "source": [
    "interesting_cols = ['blob_kT','blob_em','blob_nH','blob_sigma','blob_tau']\n",
    "#tfigs2 = xplt.traceplots(dfall[interesting_cols],agg='dscount',sampling=1000,outfile='notebook')\n",
    "#tfigs2 = xplt.traceplots(dfall[blobcols],agg=None,sampling=1000,outfile='notebook')\n",
    "#sfigs = xplt.scatter(dfall,'blob_em','blob_kT',outfile='notebook',ylog='auto',agg=None,size=10)\n",
    "xplt.histogram_grid(dfall[interesting_cols],outfile='notebook',bins=1000)"
   ]
  },
  {
   "cell_type": "code",
   "execution_count": null,
   "metadata": {
    "collapsed": false
   },
   "outputs": [],
   "source": [
    "#dfall['blob_solmass'] = astro.em_to_mass(dfall.blob_em,dfall.blob_volume,tounit='sol')\n",
    "#xplt.histogram(dfall['blob_solmass'],outfile='notebook',bins=500)\n",
    "print dfall.columns"
   ]
  },
  {
   "cell_type": "markdown",
   "metadata": {},
   "source": [
    "### Create EM maps to check significance of blobs"
   ]
  },
  {
   "cell_type": "code",
   "execution_count": null,
   "metadata": {
    "collapsed": false
   },
   "outputs": [],
   "source": [
    "# Create EM map of all blobs for comparison\n",
    "# change x0, y0, imagesize, binsize as appropriate (see the start_xmc file for x0,y0)\n",
    "imgs=xm.make_map(dfall,paramname='blob_em',paramweights=None,iteration_type='total',\n",
    "                 binsize=6.0,nlayers=20,imagesize=500.,withsignificance=True,nproc=4,\n",
    "                 outfile=outroot+'bin6_500arcsec_all',x0=-51.,y0=63.,clobber=True,rotation=-90.0)"
   ]
  },
  {
   "cell_type": "code",
   "execution_count": null,
   "metadata": {
    "collapsed": false
   },
   "outputs": [],
   "source": [
    "# based on plots, set EM and/or kT threshold for 'bad' blobs\n",
    "kTthresh = 0.13\n",
    "\n",
    "# Filter blobs based on EM and/or kT\n",
    "# change parameter name and limits as needed\n",
    "dfbadkT = xw.filterblobs(dfall,'blob_kT',maxvals=kTthresh)\n",
    "\n",
    "# Create EM map of 'bad' blobs\n",
    "# change x0, y0, imagesize, binsize as appropriate (see the start_xmc file for x0,y0)\n",
    "imgs2=xm.make_map(dfbadkT,paramname=['blob_em','blob_kT'],paramweights=[None,'blob_em'],iteration_type=['total','median'],\n",
    "                 binsize=6.0,nlayers=20,imagesize=500.,withsignificance=True,nproc=6,\n",
    "                 outfile=outroot+'bin6_500arcsec_badkT',x0=-51.,y0=63.,clobber=True,rotation=-90.0)\n",
    "\n",
    "xplt.histogram(dfbadkT['blob_em'],bins=500,outfile='notebook',height=200)\n",
    "\n",
    "# Open file in ds9\n",
    "!ds9 bin6_500arcsec_all_median_blob_em.fits -multiframe bin6_500arcsec_badkT_median_blob_em.fits -cmap rainbow -match colorbars"
   ]
  },
  {
   "cell_type": "markdown",
   "metadata": {},
   "source": [
    "There seems to be a small amount of low kT emission (kT<~0.16 keV) that is always significanct (greater than 1sigma). However, the low kT emission with the highest EM is not significant. Will try cutting on EM instead (based on the low kT EM histogram above), as that seems to be better indicator."
   ]
  },
  {
   "cell_type": "code",
   "execution_count": null,
   "metadata": {
    "collapsed": false
   },
   "outputs": [],
   "source": [
    "# based on plots, set EM and/or kT threshold for 'bad' blobs\n",
    "emthresh = 0.5e58\n",
    "\n",
    "# Filter blobs based on EM and/or kT\n",
    "# change parameter name and limits as needed\n",
    "dfbadEM = xw.filterblobs(dfall,'blob_em',minvals=emthresh)\n",
    "\n",
    "# Create EM map of 'bad' blobs\n",
    "# change x0, y0, imagesize, binsize as appropriate (see the start_xmc file for x0,y0)\n",
    "imgs1=xm.make_map(dfbadEM,paramname='blob_em',paramweights=None,iteration_type='total',\n",
    "                 binsize=10.0,nlayers=70,imagesize=500.,withsignificance=True,nproc=4,\n",
    "                 outfile=outroot+'bin10_500arcsec_badem',x0=-51.,y0=63.,clobber=True,rotation=-90.0)\n",
    "\n",
    "xplt.histogram(dfbadEM['blob_kT'],bins=500,outfile='notebook',height=200)\n",
    "\n",
    "# Open file in ds9\n",
    "!ds9 bin6_500arcsec_all_median_blob_em.fits -multiframe bin10_500arcsec_badem_median_blob_em.fits -cmap rainbow -match colorbars"
   ]
  },
  {
   "cell_type": "markdown",
   "metadata": {},
   "source": [
    "With binsize of 6\", there seems again to be a little bit of significant emission (just over 1sigma), but at very low kT (<0.13). But emission with both EM>1e59 and kT<0.13 keV is not significant. So likely need to filter on both.\n",
    "\n",
    "However, using binsize of 10\", can go down to EM~0.5e58 before finding significant emission.\n",
    "\n",
    "So binsize matters. Because I'm wanting to estimate the signficance of blobs, it makes sense to use binsizes that are similar to (and not substantially smaller than) typical blob sizes for this run. In this case, blob sizes are as small as 5-10\" in radius (10-20\" in diameter), so binsize shouldn't be smaller than about 10\"."
   ]
  },
  {
   "cell_type": "code",
   "execution_count": null,
   "metadata": {
    "collapsed": false
   },
   "outputs": [],
   "source": [
    "# test if any of the lower EM, but low kT blobs are insignificant as well.\n",
    "kTthresh = 0.164\n",
    "emthresh = 0.5e58 # based on EM test above, with 10\" binsize\n",
    "\n",
    "# Filter blobs based on EM and/or kT\n",
    "# change parameter name and limits as needed\n",
    "dfbad = xw.filterblobs(dfall,'blob_em',maxvals=emthresh)\n",
    "dfbad = xw.filterblobs(dfbad,'blob_kT',maxvals=kTthresh)\n",
    "\n",
    "# Create EM map of 'bad' blobs\n",
    "# change x0, y0, imagesize, binsize as appropriate (see the start_xmc file for x0,y0)\n",
    "imgs2=xm.make_map(dfbad,paramname='blob_em',paramweights=None,iteration_type='total',\n",
    "                 binsize=10.0,nlayers=50,imagesize=500.,withsignificance=True,nproc=4,\n",
    "                 outfile=outroot+'bin10_500arcsec_bad',x0=-51.,y0=63.,clobber=True,rotation=-90.0)\n",
    "\n",
    "xplt.histogram_grid(dfbad[['blob_kT','blob_em']],bins=500,outfile='notebook',height=200)\n",
    "\n",
    "# Open file in ds9\n",
    "!ds9 bin6_500arcsec_all_median_blob_em.fits -multiframe bin10_500arcsec_bad_median_blob_em.fits -cmap rainbow -match colorbars"
   ]
  },
  {
   "cell_type": "markdown",
   "metadata": {},
   "source": [
    "From all the blobs remaining after the initial EM cut:\n",
    "\n",
    "No emission below kT=0.164 is more than 1sigma significant. Increasing this kT threshold any amount results in small amounts of signficant emission.\n",
    "\n",
    "Cuts should be: 1) cut any blobs with EM>0.5e58, and 2) cut any remaining blobs with kT<0.164 keV."
   ]
  },
  {
   "cell_type": "code",
   "execution_count": null,
   "metadata": {
    "collapsed": false,
    "scrolled": true
   },
   "outputs": [],
   "source": [
    "# Once decided on proper thresholds, filter the dataframe for further data exploration. Check that lowest\n",
    "#  lowest temperature bins do not dominate, and that there is not an extra peak in the lowest kT bin.\n",
    "kTthresh = 0.164\n",
    "emthresh = 0.5e58\n",
    "dfgood = xw.filterblobs(dfall,'blob_em',maxvals=emthresh)\n",
    "dfgood = xw.filterblobs(dfgood,'blob_kT',minvals=kTthresh)\n",
    "\n",
    "interesting_cols = ['blob_kT','blob_em','blob_nH','blob_sigma','blob_tau']\n",
    "\n",
    "# check distributions and plots with filtered blobs\n",
    "#xplt.traceplots(dfall[interesting_cols],agg=None,sampling=5000,outfile='notebook')\n",
    "xplt.histogram_grid(dfgood[blobcols],outfile='notebook',bins=500)\n",
    "xplt.histogram_grid(dfgood[blobcols],outfile='notebook',bins=500,weights=dfgood['blob_em'])"
   ]
  },
  {
   "cell_type": "markdown",
   "metadata": {},
   "source": [
    "# Check high kT blobs\n",
    "\n",
    "### Histograms"
   ]
  },
  {
   "cell_type": "code",
   "execution_count": null,
   "metadata": {
    "collapsed": false,
    "scrolled": true
   },
   "outputs": [],
   "source": [
    "# Plot blob histograms\n",
    "hfigs=xplt.histogram(dfgood['blob_kT'],outfile='notebook',bins=500,height=400)\n",
    "whfigs=xplt.histogram(dfgood['blob_kT'],outfile='notebook',weights=dfgood['blob_em'],bins=500,height=300)"
   ]
  },
  {
   "cell_type": "code",
   "execution_count": null,
   "metadata": {
    "collapsed": false,
    "scrolled": true
   },
   "outputs": [],
   "source": [
    "tfigs = xplt.traceplots(dfgood[blobcols],agg=None,sampling=2000,outfile='notebook')"
   ]
  },
  {
   "cell_type": "code",
   "execution_count": null,
   "metadata": {
    "collapsed": false,
    "scrolled": true
   },
   "outputs": [],
   "source": [
    "hfigs=xplt.histogram_grid(dfgood,outfile='notebook',ncols=2,bins=300)\n",
    "whfigs=xplt.histogram_grid(dfgood,outfile='notebook',ncols=2,weights=dfgood['blob_em'],bins=300)"
   ]
  },
  {
   "cell_type": "code",
   "execution_count": null,
   "metadata": {
    "collapsed": false
   },
   "outputs": [],
   "source": [
    "EMthresh = 2e55\n",
    "\n",
    "# Create EM map of low EM blobs\n",
    "# change x0, y0, imagesize, binsize as appropriate (see the start_xmc file for x0,y0)\n",
    "imgs2=xm.make_map(xw.filterblobs(dfgood,'blob_em',maxvals=emthresh),paramname='blob_em',paramweights=None,\n",
    "                  iteration_type='total',\n",
    "                 binsize=10.0,nlayers=30,imagesize=500.,withsignificance=True,nproc=4,\n",
    "                 outfile=outroot+'bin10_500arcsec_lowEM',x0=-51.,y0=63.,clobber=True,rotation=-90.0)\n",
    "\n",
    "# Open file in ds9\n",
    "!ds9 bin6_500arcsec_all_median_blob_em.fits -multiframe bin10_500arcsec_lowEM_median_blob_em.fits -cmap rainbow -match colorbars"
   ]
  },
  {
   "cell_type": "code",
   "execution_count": null,
   "metadata": {
    "collapsed": false
   },
   "outputs": [],
   "source": [
    "kTthresh = 3.45\n",
    "\n",
    "# Create EM map of high kT blobs\n",
    "# change x0, y0, imagesize, binsize as appropriate (see the start_xmc file for x0,y0)\n",
    "imgs2=xm.make_map(xw.filterblobs(dfgood,'blob_kT',minvals=kTthresh),paramname='blob_em',paramweights=None,\n",
    "                  iteration_type='total',\n",
    "                 binsize=10.0,nlayers=200,imagesize=500.,withsignificance=True,nproc=4,\n",
    "                 outfile=outroot+'bin10_500arcsec_highkT',x0=-51.,y0=63.,clobber=True,rotation=-90.0)\n",
    "\n",
    "# Open file in ds9\n",
    "!ds9 bin6_500arcsec_all_median_blob_em.fits -multiframe bin10_500arcsec_highkT_median_blob_em.fits -cmap rainbow -match colorbars"
   ]
  },
  {
   "cell_type": "markdown",
   "metadata": {},
   "source": [
    "Start getting significant emission at kT>=3.44. So set threshold at kT=3.45, and cut all blobs above this."
   ]
  },
  {
   "cell_type": "code",
   "execution_count": null,
   "metadata": {
    "collapsed": false
   },
   "outputs": [],
   "source": [
    "# trim highest kT blobs (insignificant)\n",
    "kTthresh=3.45\n",
    "dfgood = xw.filterblobs(dfgood,'blob_kT',maxvals=3.45)\n",
    "print \"Number of good blobs = \",len(dfgood.index)"
   ]
  },
  {
   "cell_type": "markdown",
   "metadata": {},
   "source": [
    "# Filter blobs by location"
   ]
  },
  {
   "cell_type": "code",
   "execution_count": null,
   "metadata": {
    "collapsed": false
   },
   "outputs": [],
   "source": [
    "imgs2=xm.make_map(dfgood,paramname='blob_em',paramweights=None,\n",
    "                  iteration_type='total',\n",
    "                 binsize=10.0,nlayers=30,imagesize=700.,withsignificance=True,nproc=4,\n",
    "                 outfile=outroot+'bin10_700arcsec_good',x0=-51.,y0=63.,clobber=True,rotation=-90.0)\n",
    "\n",
    "# Open file in ds9\n",
    "!ds9 -multiframe bin10_700arcsec_*.fits -cmap rainbow -match colorbars"
   ]
  },
  {
   "cell_type": "markdown",
   "metadata": {},
   "source": [
    "Determine a radius around the object outside of which the emission is <1sigma significant. Blobs' emission measure will be weighted to include the fraction of its total emission within this radius. This should eliminate or signficantly reduce the influence of edge and corner blob emission (where there are extremely few photons to constrain things) in the histograms.\n",
    "\n",
    "### Calculate this fractional weight and add it as a column \n",
    "(This will take awhile!)"
   ]
  },
  {
   "cell_type": "code",
   "execution_count": null,
   "metadata": {
    "collapsed": true
   },
   "outputs": [],
   "source": [
    "x0=-51.\n",
    "y0=63.\n",
    "r0=340.\n",
    "rotation=-90.\n",
    "dfgood = xw.filtercircle(dfgood,r0=r0,x0=x0,y0=y0,logic='include',fraction=True,regname='rcw103_circ',\n",
    "                     use_ctypes=True,parallel=True,nproc=5)"
   ]
  },
  {
   "cell_type": "markdown",
   "metadata": {},
   "source": [
    "### Verify low significance of de-weighted emission"
   ]
  },
  {
   "cell_type": "code",
   "execution_count": null,
   "metadata": {
    "collapsed": true
   },
   "outputs": [],
   "source": [
    "# get fractions outside of the main circle (the emission being excluded)\n",
    "dfgood['rcw103_circ_exc_fraction'] = 1.0-dfgood.rcw103_circ_inc_fraction\n",
    "imgs2=xm.make_map(dfgood,\n",
    "                  paramname='blob_em',paramweights='rcw103_circ_exc_fraction',iteration_type='total',\n",
    "                 binsize=10.0,nlayers=30,imagesize=700.,withsignificance=True,nproc=5,\n",
    "                 outfile=outroot+'bin10_700arcsec_circle_exc',x0=x0,y0=y0,clobber=True,\n",
    "                  rotation=rotation)\n",
    "\n",
    "# make equivalent map with the include weights\n",
    "imgs2=xm.make_map(dfgood,\n",
    "                  paramname='blob_em',paramweights='rcw103_circ_inc_fraction',iteration_type='total',\n",
    "                 binsize=10.0,nlayers=30,imagesize=700.,withsignificance=True,nproc=5,\n",
    "                 outfile=outroot+'bin10_700arcsec_circle_inc',x0=x0,y0=y0,clobber=True,\n",
    "                  rotation=rotation)\n",
    "\n",
    "\n",
    "# Open files in ds9\n",
    "!ds9 -multiframe bin10_700arcsec_*.fits -cmap rainbow -match colorbars"
   ]
  },
  {
   "cell_type": "markdown",
   "metadata": {
    "collapsed": true
   },
   "source": [
    "# Save cleaned blob file."
   ]
  },
  {
   "cell_type": "code",
   "execution_count": null,
   "metadata": {
    "collapsed": false
   },
   "outputs": [],
   "source": [
    "outfile = ('deconvolution_merged_iter'+str(int(min(dfall.iteration)))+'-'+str(int(max(dfall.iteration)))+'_cleaned.txt')\n",
    "\n",
    "f = open(outfile,'w+')\n",
    "f.write('# Cleaning criteria: \\n')\n",
    "f.write('# EM<0.5e58 \\n')\n",
    "f.write('# 0.164<kT<3.45 keV \\n')\n",
    "f.write('# rcw103_circ: x0= '+str(x0)+', y0='+str(y0)+', r0='+str(r0)+'\\n')\n",
    "dfgood.to_csv(f,sep='\\t')\n",
    "f.close()"
   ]
  },
  {
   "cell_type": "code",
   "execution_count": null,
   "metadata": {
    "collapsed": true
   },
   "outputs": [],
   "source": []
  }
 ],
 "metadata": {
  "kernelspec": {
   "display_name": "Python 2",
   "language": "python",
   "name": "python2"
  },
  "language_info": {
   "codemirror_mode": {
    "name": "ipython",
    "version": 2
   },
   "file_extension": ".py",
   "mimetype": "text/x-python",
   "name": "python",
   "nbconvert_exporter": "python",
   "pygments_lexer": "ipython2",
   "version": "2.7.12"
  }
 },
 "nbformat": 4,
 "nbformat_minor": 0
}
